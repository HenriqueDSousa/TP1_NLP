{
 "cells": [
  {
   "cell_type": "code",
   "execution_count": 45,
   "metadata": {},
   "outputs": [],
   "source": [
    "import gensim\n",
    "from gensim.models import Word2Vec\n",
    "import numpy as np\n",
    "from gensim.models.word2vec import Text8Corpus\n",
    "from sklearn.manifold import TSNE\n",
    "import matplotlib.pyplot as plt\n",
    "import re\n"
   ]
  },
  {
   "cell_type": "code",
   "execution_count": 12,
   "metadata": {},
   "outputs": [],
   "source": [
    "text8_path=\"text8\"\n",
    "analogy_file = \"questions-words.txt\""
   ]
  },
  {
   "cell_type": "code",
   "execution_count": 13,
   "metadata": {},
   "outputs": [],
   "source": [
    "           \n",
    "def cosine_distance(v1, v2):\n",
    "    return (1 - np.dot(v1, v2) / (np.linalg.norm(v1) * np.linalg.norm(v2)))\n",
    "\n",
    "# Função para avaliar o modelo com dados de analogia\n",
    "def evaluate_model(model, analogy_file):\n",
    "    total_distance = 0\n",
    "    count = 0\n",
    "    \n",
    "    with open(analogy_file, 'r') as f:\n",
    "        for line in f:\n",
    "            if line.startswith(':'):  # Ignorar categorias de analogia\n",
    "                continue\n",
    "            words = line.strip().split()\n",
    "            if all(word in model.wv for word in words):\n",
    "                # Operação de vetores\n",
    "                result_vector = model.wv[words[1]] - model.wv[words[0]] + model.wv[words[2]]\n",
    "                expected_vector = model.wv[words[3]]\n",
    "                \n",
    "                # Distância do cosseno\n",
    "                distance = cosine_distance(expected_vector, result_vector)\n",
    "                total_distance += distance\n",
    "                count += 1\n",
    "    return total_distance / count if count > 0 else float('inf')\n"
   ]
  },
  {
   "cell_type": "code",
   "execution_count": 20,
   "metadata": {},
   "outputs": [
    {
     "ename": "SyntaxError",
     "evalue": "invalid syntax. Perhaps you forgot a comma? (375468633.py, line 9)",
     "output_type": "error",
     "traceback": [
      "\u001b[0;36m  Cell \u001b[0;32mIn[20], line 9\u001b[0;36m\u001b[0m\n\u001b[0;31m    min_count=5\u001b[0m\n\u001b[0m              ^\u001b[0m\n\u001b[0;31mSyntaxError\u001b[0m\u001b[0;31m:\u001b[0m invalid syntax. Perhaps you forgot a comma?\n"
     ]
    }
   ],
   "source": [
    "def train_model(model_params: dict, corpus: list) -> Word2Vec.__class__:\n",
    "    model = Word2Vec(\n",
    "        sentences=corpus,\n",
    "        vector_size=model_params['vector_size'],\n",
    "        window=model_params['window'],\n",
    "        sg=model_params['sg'],  # CBOW (0) ou Skip-gram (1)\n",
    "        alpha=model_params['alpha'],  # Taxa de aprendizado inicial\n",
    "        negative=model_params['negative'],\n",
    "        min_count=5\n",
    "        sample=1e-3\n",
    "        workers=4\n",
    "    )\n",
    "    \n",
    "    return model"
   ]
  },
  {
   "cell_type": "code",
   "execution_count": 21,
   "metadata": {},
   "outputs": [],
   "source": [
    "# Função principal\n",
    "def train_and_evaluate(analogy_file, parameters):\n",
    "    corpus = Text8Corpus(text8_path)\n",
    "    results = []\n",
    "    min_distance = float('inf')\n",
    "    best_model = Word2Vec()\n",
    "    best_params = {}\n",
    "\n",
    "    for param in parameters:\n",
    "        print(f\"Treinando modelo com parâmetros: {param}\")\n",
    "        model = train_model(param, corpus)\n",
    "        \n",
    "        # Avaliação do modelo\n",
    "        distance = evaluate_model(model, analogy_file)\n",
    "        results.append((param, distance))\n",
    "\n",
    "        if ( distance < min_distance ):\n",
    "            min_distance = distance\n",
    "            best_model = model\n",
    "            best_params = param\n",
    "\n",
    "        print(f\"Distância média: {distance}\")\n",
    "\n",
    "    \n",
    "    print(\"\\nMelhor modelo:\", best_params)\n",
    "    print(\"Menor distância média:\", min_distance)\n",
    "\n",
    "    return best_model, best_params"
   ]
  },
  {
   "cell_type": "code",
   "execution_count": 23,
   "metadata": {},
   "outputs": [
    {
     "name": "stdout",
     "output_type": "stream",
     "text": [
      "Treinando modelo com parâmetros: {'vector_size': 10, 'window': 3, 'sg': 1, 'alpha': 0.001, 'negative': 5}\n",
      "Distância média: 0.2607987963658268\n",
      "Treinando modelo com parâmetros: {'vector_size': 10, 'window': 5, 'sg': 1, 'alpha': 0.001, 'negative': 5}\n",
      "Distância média: 0.21277569499249022\n",
      "Treinando modelo com parâmetros: {'vector_size': 10, 'window': 10, 'sg': 1, 'alpha': 0.001, 'negative': 5}\n",
      "Distância média: 0.16931704455920596\n",
      "Treinando modelo com parâmetros: {'vector_size': 30, 'window': 3, 'sg': 1, 'alpha': 0.001, 'negative': 5}\n",
      "Distância média: 0.2611436001427811\n",
      "Treinando modelo com parâmetros: {'vector_size': 30, 'window': 5, 'sg': 1, 'alpha': 0.001, 'negative': 5}\n",
      "Distância média: 0.2229829878847902\n",
      "Treinando modelo com parâmetros: {'vector_size': 30, 'window': 10, 'sg': 1, 'alpha': 0.001, 'negative': 5}\n",
      "Distância média: 0.19322664062613215\n",
      "\n",
      "Melhor modelo: {'vector_size': 10, 'window': 10, 'sg': 1, 'alpha': 0.001, 'negative': 5}\n",
      "Menor distância média: 0.16931704455920596\n"
     ]
    }
   ],
   "source": [
    "# Parâmetros para experimentação\n",
    "parameters = [\n",
    "    #CBOW \n",
    "    # {'vector_size': 10, 'window': 3, 'sg': 0, 'alpha': 0.001, 'negative': 5},\n",
    "    # {'vector_size': 10, 'window': 5, 'sg': 0, 'alpha': 0.001, 'negative': 5},  \n",
    "    # {'vector_size': 10, 'window': 10, 'sg': 0, 'alpha': 0.001, 'negative': 5}, \n",
    "    # {'vector_size': 30, 'window': 3, 'sg': 0, 'alpha': 0.001, 'negative': 5},\n",
    "    # {'vector_size': 30, 'window': 5, 'sg': 0, 'alpha': 0.001, 'negative': 5},  \n",
    "    # {'vector_size': 30, 'window': 10, 'sg': 0, 'alpha': 0.001, 'negative': 5}, \n",
    "    # {'vector_size': 60, 'window': 3, 'sg': 0, 'alpha': 0.001, 'negative': 5}, \n",
    "    # {'vector_size': 60, 'window': 5, 'sg': 0, 'alpha': 0.001, 'negative': 5},\n",
    "    # {'vector_size': 60, 'window': 10, 'sg': 0, 'alpha': 0.001, 'negative': 5}, \n",
    "\n",
    "    # Skip-gram \n",
    "    {'vector_size': 10, 'window': 3, 'sg': 1, 'alpha': 0.001, 'negative': 5},  \n",
    "    {'vector_size': 10, 'window': 5, 'sg': 1, 'alpha': 0.001, 'negative': 5}, \n",
    "    {'vector_size': 10, 'window': 10, 'sg': 1, 'alpha': 0.001, 'negative': 5},\n",
    "    {'vector_size': 30, 'window': 3, 'sg': 1, 'alpha': 0.001, 'negative': 5},  \n",
    "    {'vector_size': 30, 'window': 5, 'sg': 1, 'alpha': 0.001, 'negative': 5}, \n",
    "    {'vector_size': 30, 'window': 10, 'sg': 1, 'alpha': 0.001, 'negative': 5},\n",
    "    # {'vector_size': 60, 'window': 3, 'sg': 1, 'alpha': 0.001, 'negative': 5},  \n",
    "    # {'vector_size': 60, 'window': 5, 'sg': 1, 'alpha': 0.001, 'negative': 5}, \n",
    "    # {'vector_size': 60, 'window': 10, 'sg': 1, 'alpha': 0.001, 'negative': 5},\n",
    "\n",
    "\n",
    "]\n",
    "\n",
    "# Executar\n",
    "best_model, best_params = train_and_evaluate(analogy_file, parameters)"
   ]
  },
  {
   "cell_type": "markdown",
   "metadata": {},
   "source": [
    "How many words were learnt?"
   ]
  },
  {
   "cell_type": "code",
   "execution_count": 25,
   "metadata": {},
   "outputs": [
    {
     "data": {
      "text/plain": [
       "71290"
      ]
     },
     "execution_count": 25,
     "metadata": {},
     "output_type": "execute_result"
    }
   ],
   "source": [
    "len(best_model.wv.key_to_index) "
   ]
  },
  {
   "cell_type": "code",
   "execution_count": 101,
   "metadata": {},
   "outputs": [],
   "source": [
    "def test_analogies(model, test_cases):\n",
    "    print(\"\\nTestando analogias experimentais:\")\n",
    "    for analogy in test_cases:\n",
    "        word_a, word_b, word_c = analogy[:3]\n",
    "        if all(word in model.wv for word in [word_a, word_b, word_c]):\n",
    "            result_vector = model.wv[word_b] - model.wv[word_a] + model.wv[word_c]\n",
    "            closest_word = model.wv.most_similar([result_vector], topn=1)[0][0]\n",
    "            print(f\"{word_a} -> {word_b}, {word_c} -> {closest_word}\")\n",
    "            print( model.wv.most_similar([result_vector], topn=5))"
   ]
  },
  {
   "cell_type": "code",
   "execution_count": 104,
   "metadata": {},
   "outputs": [
    {
     "name": "stdout",
     "output_type": "stream",
     "text": [
      "\n",
      "Testando analogias experimentais:\n",
      "boy -> brother, girl -> daughter\n",
      "[('daughter', 0.9687771797180176), ('son', 0.9686810970306396), ('wife', 0.9545168876647949), ('brother', 0.9519451260566711), ('heir', 0.9494006037712097)]\n",
      "man -> king, woman -> emperor\n",
      "[('emperor', 0.9855666756629944), ('pope', 0.9818410873413086), ('king', 0.9737104773521423), ('sons', 0.9725826978683472), ('constantine', 0.9711017608642578)]\n",
      "paris -> france, berlin -> germany\n",
      "[('germany', 0.988174319267273), ('russia', 0.9863964319229126), ('finland', 0.981310248374939), ('china', 0.9803701639175415), ('israeli', 0.9792732000350952)]\n",
      "man -> actor, woman -> actor\n",
      "[('actor', 0.9846175909042358), ('actress', 0.9837008714675903), ('singer', 0.9817619919776917), ('musician', 0.9616746306419373), ('born', 0.9578732848167419)]\n",
      "man -> husband, woman -> husband\n",
      "[('husband', 0.970988929271698), ('married', 0.951518177986145), ('daughters', 0.9503814578056335), ('younger', 0.9487897753715515), ('divorced', 0.9420365691184998)]\n",
      "day -> sun, night -> pining\n",
      "[('pining', 0.9238523244857788), ('odory', 0.9106191992759705), ('moon', 0.8987389206886292), ('ball', 0.8949550986289978), ('hit', 0.8908506035804749)]\n"
     ]
    }
   ],
   "source": [
    "test_cases = [\n",
    "    ['boy', 'brother', 'girl'],\n",
    "    [\"man\", \"king\", \"woman\"],  \n",
    "    [\"paris\", \"france\", \"berlin\"],     \n",
    "    [\"man\", \"actor\", \"woman\"],\n",
    "    [\"man\", \"husband\", \"woman\"],\n",
    "    [\"day\", \"sun\", \"night\"]\n",
    "]\n",
    "test_analogies(best_model, test_cases)"
   ]
  },
  {
   "cell_type": "markdown",
   "metadata": {},
   "source": []
  },
  {
   "cell_type": "code",
   "execution_count": 33,
   "metadata": {},
   "outputs": [
    {
     "name": "stdout",
     "output_type": "stream",
     "text": [
      "0.03071349859237671\n"
     ]
    }
   ],
   "source": [
    "print(cosine_distance(best_model.wv['man'], best_model.wv['woman'])) "
   ]
  },
  {
   "cell_type": "code",
   "execution_count": 35,
   "metadata": {},
   "outputs": [
    {
     "name": "stdout",
     "output_type": "stream",
     "text": [
      "[('emperor', 0.9833693504333496), ('pope', 0.9783900380134583), ('sons', 0.9730967879295349), ('constantine', 0.9686971306800842), ('elizabeth', 0.9626913070678711), ('married', 0.9606030583381653), ('julius', 0.9605692028999329), ('prince', 0.9597665071487427), ('throne', 0.9589797854423523), ('jacob', 0.9581308364868164)]\n"
     ]
    }
   ],
   "source": [
    "print(best_model.wv.most_similar(positive=['woman', 'king'], negative=['man']))"
   ]
  },
  {
   "cell_type": "markdown",
   "metadata": {},
   "source": [
    "Which are the most feminine words?"
   ]
  },
  {
   "cell_type": "code",
   "execution_count": null,
   "metadata": {},
   "outputs": [
    {
     "name": "stdout",
     "output_type": "stream",
     "text": [
      "[('narendra', 0.6472424268722534), ('matique', 0.6436644196510315), ('climacus', 0.6284105181694031), ('anzio', 0.6187710165977478), ('coiner', 0.6165974736213684), ('arakawa', 0.6110766530036926), ('dogpatch', 0.6049278974533081), ('nadesico', 0.5970968008041382), ('dimanche', 0.5965697765350342), ('radle', 0.5956652760505676)]\n"
     ]
    }
   ],
   "source": [
    "print(best_model.wv.most_similar(positive=['woman'], negative=['man'], topn=10))\n"
   ]
  },
  {
   "cell_type": "markdown",
   "metadata": {},
   "source": [
    "And the most masculine?"
   ]
  },
  {
   "cell_type": "code",
   "execution_count": 43,
   "metadata": {},
   "outputs": [
    {
     "name": "stdout",
     "output_type": "stream",
     "text": [
      "[('law', 0.4614548981189728), ('magnes', 0.4605790376663208), ('intelligence', 0.45258358120918274), ('right', 0.4387674927711487), ('branch', 0.4324988126754761), ('theory', 0.42667433619499207), ('formulates', 0.41904985904693604), ('acd', 0.417023241519928), ('clamped', 0.4137336015701294), ('unconstitutionality', 0.409860223531723)]\n"
     ]
    }
   ],
   "source": [
    "print(best_model.wv.most_similar(positive=['man'], negative=['woman'], topn=10))\n"
   ]
  },
  {
   "cell_type": "markdown",
   "metadata": {},
   "source": [
    "## Visualizing in a 2D space"
   ]
  },
  {
   "cell_type": "code",
   "execution_count": 62,
   "metadata": {},
   "outputs": [],
   "source": [
    "def tsne_plot(words, vectors, iterations=1000, seed=42, title=\"t-SNE Word Embeddings\"):\n",
    "    \"\"\"\n",
    "    Creates a t-SNE plot of word embeddings.\n",
    "    \n",
    "    Parameters:\n",
    "    - words: List of words to plot.\n",
    "    - vectors: Corresponding vectors for the words.\n",
    "    - iterations: Number of t-SNE iterations.\n",
    "    - seed: Random seed for reproducibility.\n",
    "    - title: Title for the plot.\n",
    "    \"\"\"\n",
    "    # Create t-SNE model and fit-transform the vectors\n",
    "    tsne_model = TSNE(perplexity=5, n_components=2, init='pca', \n",
    "                       n_iter=iterations, random_state=seed)\n",
    "    new_values = tsne_model.fit_transform(vectors)\n",
    "\n",
    "    # Extract x and y coordinates\n",
    "    x, y = new_values[:, 0], new_values[:, 1]\n",
    "\n",
    "    # Plot the results\n",
    "    plt.figure(figsize=(10, 10))\n",
    "    \n",
    "    # Annotate points with words\n",
    "    for i in range(len(words)):\n",
    "        \n",
    "        plt.scatter(x[i], y[i])\n",
    "        plt.annotate(words[i], xy=(x[i], y[i]), xytext=(5, 2),\n",
    "                     textcoords='offset points', ha='right', va='bottom')\n",
    "\n",
    "    plt.xlabel(\"Latent Dimension 1\")\n",
    "    plt.ylabel(\"Latent Dimension 2\")\n",
    "    plt.title(title)\n",
    "    plt.grid(True)\n",
    "    plt.show()\n"
   ]
  },
  {
   "cell_type": "code",
   "execution_count": 63,
   "metadata": {},
   "outputs": [],
   "source": [
    "# Initialize lists for words and their corresponding vectors\n",
    "my_word_list = []\n",
    "my_word_vectors = []\n",
    "\n",
    "# List of words to explore\n",
    "words_to_explore = [\n",
    "    'woman', 'man', 'queen', 'king', 'human', 'person', 'girl', 'child', 'boy',\n",
    "    'salad', 'lettuce', 'tomato', 'soup', 'turnip', 'arugula', 'pepper', \n",
    "    'greens', 'barley', 'bean', 'stew', 'carrot'\n",
    "]\n",
    "\n",
    "for word in words_to_explore:\n",
    "    try:\n",
    "        if word not in my_word_list:\n",
    "            my_word_vectors.append(best_model.wv[word])\n",
    "            my_word_list.append(word)\n",
    "    except KeyError:  # Ignore words not in the vocabulary\n",
    "        continue\n"
   ]
  },
  {
   "cell_type": "code",
   "execution_count": 64,
   "metadata": {},
   "outputs": [
    {
     "name": "stderr",
     "output_type": "stream",
     "text": [
      "/home/hick/miniconda3/lib/python3.12/site-packages/sklearn/manifold/_t_sne.py:1164: FutureWarning: 'n_iter' was renamed to 'max_iter' in version 1.5 and will be removed in 1.7.\n",
      "  warnings.warn(\n"
     ]
    },
    {
     "data": {
      "image/png": "[encoded data removed]",
      "text/plain": [
       "<Figure size 1000x1000 with 1 Axes>"
      ]
     },
     "metadata": {},
     "output_type": "display_data"
    }
   ],
   "source": [
    "# Generate the t-SNE plot\n",
    "tsne_plot(my_word_list, np.array(my_word_vectors), iterations=1000, seed=42, title=\"Word Embeddings Visualization\")\n"
   ]
  },
  {
   "cell_type": "code",
   "execution_count": null,
   "metadata": {},
   "outputs": [],
   "source": []
  },
  {
   "cell_type": "code",
   "execution_count": null,
   "metadata": {},
   "outputs": [],
   "source": []
  }
 ],
 "metadata": {
  "kernelspec": {
   "display_name": "base",
   "language": "python",
   "name": "python3"
  },
  "language_info": {
   "codemirror_mode": {
    "name": "ipython",
    "version": 3
   },
   "file_extension": ".py",
   "mimetype": "text/x-python",
   "name": "python",
   "nbconvert_exporter": "python",
   "pygments_lexer": "ipython3",
   "version": "3.12.2"
  }
 },
 "nbformat": 4,
 "nbformat_minor": 2
}
