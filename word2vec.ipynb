{
 "cells": [
  {
   "cell_type": "code",
   "execution_count": 1,
   "metadata": {},
   "outputs": [],
   "source": [
    "import gensim\n",
    "from gensim.models import Word2Vec\n",
    "import numpy as np\n",
    "from gensim.models.word2vec import Text8Corpus\n",
    "from sklearn.manifold import TSNE\n",
    "import matplotlib.pyplot as plt\n",
    "import re\n"
   ]
  },
  {
   "cell_type": "code",
   "execution_count": 2,
   "metadata": {},
   "outputs": [],
   "source": [
    "text8_path=\"text8\"\n",
    "analogy_file = \"questions-words.txt\""
   ]
  },
  {
   "cell_type": "code",
   "execution_count": 3,
   "metadata": {},
   "outputs": [],
   "source": [
    "           \n",
    "def cosine_distance(v1, v2):\n",
    "    return (1 - np.dot(v1, v2) / (np.linalg.norm(v1) * np.linalg.norm(v2)))\n",
    "\n",
    "# Função para avaliar o modelo com dados de analogia\n",
    "def evaluate_model(model, analogy_file):\n",
    "    total_distance = 0\n",
    "    count = 0\n",
    "    \n",
    "    with open(analogy_file, 'r') as f:\n",
    "        for line in f:\n",
    "            if line.startswith(':'):  # Ignorar categorias de analogia\n",
    "                continue\n",
    "            words = line.strip().split()\n",
    "            if all(word in model.wv for word in words):\n",
    "                # Operação de vetores\n",
    "                result_vector = model.wv[words[1]] - model.wv[words[0]] + model.wv[words[2]]\n",
    "                expected_vector = model.wv[words[3]]\n",
    "                \n",
    "                # Distância do cosseno\n",
    "                distance = cosine_distance(expected_vector, result_vector)\n",
    "                total_distance += distance\n",
    "                count += 1\n",
    "    return total_distance / count if count > 0 else float('inf')\n"
   ]
  },
  {
   "cell_type": "code",
   "execution_count": 4,
   "metadata": {},
   "outputs": [],
   "source": [
    "def train_model(model_params: dict, corpus: list) -> Word2Vec.__class__:\n",
    "    model = Word2Vec(\n",
    "        sentences=corpus,\n",
    "        vector_size=model_params['vector_size'],\n",
    "        window=model_params['window'],\n",
    "        sg=model_params['sg'],  # CBOW (0) ou Skip-gram (1)\n",
    "        alpha=model_params['alpha'],  # Taxa de aprendizado inicial\n",
    "        negative=model_params['negative'],\n",
    "        min_count=5,\n",
    "        workers=4,\n",
    "    )\n",
    "    \n",
    "    return model"
   ]
  },
  {
   "cell_type": "code",
   "execution_count": 5,
   "metadata": {},
   "outputs": [],
   "source": [
    "# Função principal\n",
    "def train_and_evaluate(analogy_file, parameters):\n",
    "    corpus = Text8Corpus(text8_path)\n",
    "    results = []\n",
    "    min_distance = float('inf')\n",
    "    best_model = Word2Vec()\n",
    "    best_params = {}\n",
    "\n",
    "    for param in parameters:\n",
    "        print(f\"Treinando modelo com parâmetros: {param}\")\n",
    "        model = train_model(param, corpus)\n",
    "        \n",
    "        # Avaliação do modelo\n",
    "        distance = evaluate_model(model, analogy_file)\n",
    "        results.append((param, distance))\n",
    "\n",
    "        if ( distance < min_distance ):\n",
    "            min_distance = distance\n",
    "            best_model = model\n",
    "            best_params = param\n",
    "\n",
    "        print(f\"Distância média: {distance}\")\n",
    "\n",
    "    \n",
    "    print(\"\\nMelhor modelo:\", best_params)\n",
    "    print(\"Menor distância média:\", min_distance)\n",
    "\n",
    "    return best_model, best_params"
   ]
  },
  {
   "cell_type": "code",
   "execution_count": 6,
   "metadata": {},
   "outputs": [
    {
     "name": "stdout",
     "output_type": "stream",
     "text": [
      "Treinando modelo com parâmetros: {'vector_size': 10, 'window': 3, 'sg': 0, 'alpha': 0.001, 'negative': 5}\n",
      "Distância média: 0.5816872982514105\n",
      "Treinando modelo com parâmetros: {'vector_size': 10, 'window': 5, 'sg': 0, 'alpha': 0.001, 'negative': 5}\n",
      "Distância média: 0.604495096009925\n",
      "Treinando modelo com parâmetros: {'vector_size': 10, 'window': 10, 'sg': 0, 'alpha': 0.001, 'negative': 5}\n",
      "Distância média: 0.6269396776206094\n",
      "Treinando modelo com parâmetros: {'vector_size': 30, 'window': 3, 'sg': 0, 'alpha': 0.001, 'negative': 5}\n",
      "Distância média: 0.5769650188182212\n",
      "Treinando modelo com parâmetros: {'vector_size': 30, 'window': 5, 'sg': 0, 'alpha': 0.001, 'negative': 5}\n",
      "Distância média: 0.6001829169416326\n",
      "Treinando modelo com parâmetros: {'vector_size': 30, 'window': 10, 'sg': 0, 'alpha': 0.001, 'negative': 5}\n",
      "Distância média: 0.6223691175489479\n",
      "Treinando modelo com parâmetros: {'vector_size': 10, 'window': 3, 'sg': 1, 'alpha': 0.001, 'negative': 5}\n",
      "Distância média: 0.25982607473835856\n",
      "Treinando modelo com parâmetros: {'vector_size': 10, 'window': 5, 'sg': 1, 'alpha': 0.001, 'negative': 5}\n",
      "Distância média: 0.21299718768604034\n",
      "Treinando modelo com parâmetros: {'vector_size': 10, 'window': 10, 'sg': 1, 'alpha': 0.001, 'negative': 5}\n",
      "Distância média: 0.16995526391764748\n",
      "Treinando modelo com parâmetros: {'vector_size': 30, 'window': 3, 'sg': 1, 'alpha': 0.001, 'negative': 5}\n",
      "Distância média: 0.26132344196309965\n",
      "Treinando modelo com parâmetros: {'vector_size': 30, 'window': 5, 'sg': 1, 'alpha': 0.001, 'negative': 5}\n",
      "Distância média: 0.22234716298508223\n",
      "Treinando modelo com parâmetros: {'vector_size': 30, 'window': 10, 'sg': 1, 'alpha': 0.001, 'negative': 5}\n",
      "Distância média: 0.19264088896426815\n",
      "\n",
      "Melhor modelo: {'vector_size': 10, 'window': 10, 'sg': 1, 'alpha': 0.001, 'negative': 5}\n",
      "Menor distância média: 0.16995526391764748\n"
     ]
    }
   ],
   "source": [
    "# Parâmetros para experimentação\n",
    "parameters = [\n",
    "    #CBOW \n",
    "    {'vector_size': 10, 'window': 3, 'sg': 0, 'alpha': 0.001, 'negative': 5},\n",
    "    {'vector_size': 10, 'window': 5, 'sg': 0, 'alpha': 0.001, 'negative': 5},  \n",
    "    {'vector_size': 10, 'window': 10, 'sg': 0, 'alpha': 0.001, 'negative': 5}, \n",
    "    {'vector_size': 30, 'window': 3, 'sg': 0, 'alpha': 0.001, 'negative': 5},\n",
    "    {'vector_size': 30, 'window': 5, 'sg': 0, 'alpha': 0.001, 'negative': 5},  \n",
    "    {'vector_size': 30, 'window': 10, 'sg': 0, 'alpha': 0.001, 'negative': 5}, \n",
    "\n",
    "    # Skip-gram \n",
    "    {'vector_size': 10, 'window': 3, 'sg': 1, 'alpha': 0.001, 'negative': 5},  \n",
    "    {'vector_size': 10, 'window': 5, 'sg': 1, 'alpha': 0.001, 'negative': 5}, \n",
    "    {'vector_size': 10, 'window': 10, 'sg': 1, 'alpha': 0.001, 'negative': 5},\n",
    "    {'vector_size': 30, 'window': 3, 'sg': 1, 'alpha': 0.001, 'negative': 5},  \n",
    "    {'vector_size': 30, 'window': 5, 'sg': 1, 'alpha': 0.001, 'negative': 5}, \n",
    "    {'vector_size': 30, 'window': 10, 'sg': 1, 'alpha': 0.001, 'negative': 5},\n",
    "\n",
    "]\n",
    "\n",
    "# Executar\n",
    "best_model, best_params = train_and_evaluate(analogy_file, parameters)"
   ]
  },
  {
   "cell_type": "markdown",
   "metadata": {},
   "source": [
    "How many words were learnt?"
   ]
  },
  {
   "cell_type": "code",
   "execution_count": 7,
   "metadata": {},
   "outputs": [
    {
     "data": {
      "text/plain": [
       "71290"
      ]
     },
     "execution_count": 7,
     "metadata": {},
     "output_type": "execute_result"
    }
   ],
   "source": [
    "len(best_model.wv.key_to_index) "
   ]
  },
  {
   "cell_type": "code",
   "execution_count": 8,
   "metadata": {},
   "outputs": [],
   "source": [
    "def test_analogies(model, test_cases):\n",
    "    print(\"\\nTestando analogias experimentais:\")\n",
    "    for analogy in test_cases:\n",
    "        word_a, word_b, word_c = analogy[:3]\n",
    "        if all(word in model.wv for word in [word_a, word_b, word_c]):\n",
    "            result_vector = model.wv[word_b] - model.wv[word_a] + model.wv[word_c]\n",
    "            closest_word = model.wv.most_similar([result_vector], topn=1)[0][0]\n",
    "            print(f\"{word_a} -> {word_b}, {word_c} -> {closest_word}\")\n",
    "            print( model.wv.most_similar([result_vector], topn=5))"
   ]
  },
  {
   "cell_type": "code",
   "execution_count": 9,
   "metadata": {},
   "outputs": [
    {
     "name": "stdout",
     "output_type": "stream",
     "text": [
      "\n",
      "Testando analogias experimentais:\n",
      "boy -> brother, girl -> daughter\n",
      "[('daughter', 0.9718688726425171), ('son', 0.96685791015625), ('wife', 0.9597024321556091), ('married', 0.9564929604530334), ('brother', 0.9535378813743591)]\n",
      "man -> king, woman -> emperor\n",
      "[('emperor', 0.985628604888916), ('pope', 0.9805377721786499), ('sons', 0.9789015650749207), ('king', 0.9757578372955322), ('prince', 0.9663566946983337)]\n",
      "paris -> france, berlin -> germany\n",
      "[('germany', 0.9890055060386658), ('russia', 0.9877108335494995), ('israeli', 0.9849409461021423), ('finland', 0.9816819429397583), ('united', 0.9810136556625366)]\n",
      "man -> actor, woman -> actress\n",
      "[('actress', 0.9863923788070679), ('actor', 0.9849656820297241), ('singer', 0.9818601608276367), ('musician', 0.9662694334983826), ('composer', 0.960141122341156)]\n",
      "man -> husband, woman -> husband\n",
      "[('husband', 0.9730583429336548), ('daughters', 0.9513264894485474), ('divorced', 0.9498974084854126), ('younger', 0.9463658928871155), ('married', 0.944023609161377)]\n",
      "day -> sun, night -> moon\n",
      "[('moon', 0.921329915523529), ('odory', 0.9089348316192627), ('ball', 0.9036454558372498), ('sun', 0.8984090089797974), ('hit', 0.8936812281608582)]\n"
     ]
    }
   ],
   "source": [
    "test_cases = [\n",
    "    ['boy', 'brother', 'girl'],\n",
    "    [\"man\", \"king\", \"woman\"],  \n",
    "    [\"paris\", \"france\", \"berlin\"],     \n",
    "    [\"man\", \"actor\", \"woman\"],\n",
    "    [\"man\", \"husband\", \"woman\"],\n",
    "    [\"day\", \"sun\", \"night\"]\n",
    "]\n",
    "test_analogies(best_model, test_cases)"
   ]
  },
  {
   "cell_type": "markdown",
   "metadata": {},
   "source": []
  },
  {
   "cell_type": "code",
   "execution_count": 10,
   "metadata": {},
   "outputs": [
    {
     "name": "stdout",
     "output_type": "stream",
     "text": [
      "0.028678715229034424\n"
     ]
    }
   ],
   "source": [
    "print(cosine_distance(best_model.wv['man'], best_model.wv['woman'])) "
   ]
  },
  {
   "cell_type": "code",
   "execution_count": 11,
   "metadata": {},
   "outputs": [
    {
     "name": "stdout",
     "output_type": "stream",
     "text": [
      "[('emperor', 0.9833436608314514), ('sons', 0.9798372387886047), ('pope', 0.9768761396408081), ('married', 0.9673745632171631), ('constantine', 0.963466227054596), ('lady', 0.9621750116348267), ('elizabeth', 0.9620877504348755), ('prince', 0.9618741869926453), ('murdered', 0.9613140225410461), ('julius', 0.9610971808433533)]\n"
     ]
    }
   ],
   "source": [
    "print(best_model.wv.most_similar(positive=['woman', 'king'], negative=['man']))"
   ]
  },
  {
   "cell_type": "markdown",
   "metadata": {},
   "source": [
    "Which are the most feminine words?"
   ]
  },
  {
   "cell_type": "code",
   "execution_count": 12,
   "metadata": {},
   "outputs": [
    {
     "name": "stdout",
     "output_type": "stream",
     "text": [
      "[('narendra', 0.6768335700035095), ('climacus', 0.637901782989502), ('nadesico', 0.6211317181587219), ('dogpatch', 0.6187779307365417), ('dimanche', 0.6104142069816589), ('anzio', 0.6088247299194336), ('cheong', 0.6064728498458862), ('matique', 0.6064265370368958), ('coiner', 0.6040307879447937), ('kentauros', 0.5991018414497375)]\n"
     ]
    }
   ],
   "source": [
    "print(best_model.wv.most_similar(positive=['woman'], negative=['man'], topn=10))\n"
   ]
  },
  {
   "cell_type": "markdown",
   "metadata": {},
   "source": [
    "And the most masculine?"
   ]
  },
  {
   "cell_type": "code",
   "execution_count": 13,
   "metadata": {},
   "outputs": [
    {
     "name": "stdout",
     "output_type": "stream",
     "text": [
      "[('perdiccas', 0.41870424151420593), ('intelligence', 0.410832017660141), ('law', 0.3990551233291626), ('right', 0.3955104351043701), ('magnes', 0.39320337772369385), ('lynchburg', 0.3896403908729553), ('berichte', 0.3835461735725403), ('branch', 0.3821200728416443), ('clamped', 0.3793090581893921), ('belton', 0.37457525730133057)]\n"
     ]
    }
   ],
   "source": [
    "print(best_model.wv.most_similar(positive=['man'], negative=['woman'], topn=10))\n"
   ]
  },
  {
   "cell_type": "markdown",
   "metadata": {},
   "source": [
    "## Visualizing in a 2D space"
   ]
  },
  {
   "cell_type": "code",
   "execution_count": 14,
   "metadata": {},
   "outputs": [],
   "source": [
    "def tsne_plot(words, vectors, iterations=1000, seed=42, title=\"t-SNE Word Embeddings\"):\n",
    "    \"\"\"\n",
    "    Creates a t-SNE plot of word embeddings.\n",
    "    \n",
    "    Parameters:\n",
    "    - words: List of words to plot.\n",
    "    - vectors: Corresponding vectors for the words.\n",
    "    - iterations: Number of t-SNE iterations.\n",
    "    - seed: Random seed for reproducibility.\n",
    "    - title: Title for the plot.\n",
    "    \"\"\"\n",
    "    # Create t-SNE model and fit-transform the vectors\n",
    "    tsne_model = TSNE(perplexity=5, n_components=2, init='pca', \n",
    "                       max_iter=iterations, random_state=seed)\n",
    "    new_values = tsne_model.fit_transform(vectors)\n",
    "\n",
    "    # Extract x and y coordinates\n",
    "    x, y = new_values[:, 0], new_values[:, 1]\n",
    "\n",
    "    # Plot the results\n",
    "    plt.figure(figsize=(10, 10))\n",
    "    \n",
    "    # Annotate points with words\n",
    "    for i in range(len(words)):\n",
    "        \n",
    "        plt.scatter(x[i], y[i])\n",
    "        plt.annotate(words[i], xy=(x[i], y[i]), xytext=(5, 2),\n",
    "                     textcoords='offset points', ha='right', va='bottom')\n",
    "\n",
    "    plt.xlabel(\"Latent Dimension 1\")\n",
    "    plt.ylabel(\"Latent Dimension 2\")\n",
    "    plt.title(title)\n",
    "    plt.grid(True)\n",
    "    plt.show()\n"
   ]
  },
  {
   "cell_type": "code",
   "execution_count": 15,
   "metadata": {},
   "outputs": [],
   "source": [
    "# Initialize lists for words and their corresponding vectors\n",
    "my_word_list = []\n",
    "my_word_vectors = []\n",
    "\n",
    "# List of words to explore\n",
    "words_to_explore = [\n",
    "    'woman', 'man', 'queen', 'king', 'human', 'person', 'girl', 'child', 'boy',\n",
    "    'salad', 'lettuce', 'tomato', 'soup', 'turnip', 'arugula', 'pepper', \n",
    "    'greens', 'barley', 'bean', 'stew', 'carrot'\n",
    "]\n",
    "\n",
    "for word in words_to_explore:\n",
    "    try:\n",
    "        if word not in my_word_list:\n",
    "            my_word_vectors.append(best_model.wv[word])\n",
    "            my_word_list.append(word)\n",
    "    except KeyError:  # Ignore words not in the vocabulary\n",
    "        continue\n"
   ]
  },
  {
   "cell_type": "code",
   "execution_count": 16,
   "metadata": {},
   "outputs": [
    {
     "data": {
      "image/png": "[encoded data removed]",
      "text/plain": [
       "<Figure size 1000x1000 with 1 Axes>"
      ]
     },
     "metadata": {},
     "output_type": "display_data"
    }
   ],
   "source": [
    "# Generate the t-SNE plot\n",
    "tsne_plot(my_word_list, np.array(my_word_vectors), iterations=1000, seed=42, title=\"Word Embeddings Visualization\")\n"
   ]
  },
  {
   "cell_type": "code",
   "execution_count": null,
   "metadata": {},
   "outputs": [],
   "source": []
  },
  {
   "cell_type": "code",
   "execution_count": null,
   "metadata": {},
   "outputs": [],
   "source": []
  }
 ],
 "metadata": {
  "kernelspec": {
   "display_name": "base",
   "language": "python",
   "name": "python3"
  },
  "language_info": {
   "codemirror_mode": {
    "name": "ipython",
    "version": 3
   },
   "file_extension": ".py",
   "mimetype": "text/x-python",
   "name": "python",
   "nbconvert_exporter": "python",
   "pygments_lexer": "ipython3",
   "version": "3.12.2"
  }
 },
 "nbformat": 4,
 "nbformat_minor": 2
}
